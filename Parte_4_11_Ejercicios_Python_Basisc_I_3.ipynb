{
 "cells": [
  {
   "cell_type": "markdown",
   "metadata": {
    "id": "Hc6Ja4E43WYp"
   },
   "source": [
    "![TheBridge_logo_RGB_color.jpg](attachment:TheBridge_logo_RGB_color.jpg)"
   ]
  },
  {
   "cell_type": "markdown",
   "metadata": {
    "id": "quNf5EAY3WYq"
   },
   "source": [
    "![imagen](./img/ejercicios.png)"
   ]
  },
  {
   "cell_type": "markdown",
   "metadata": {
    "id": "lJ5udJ-73WYq"
   },
   "source": [
    "## EJERCICIOS PYTHON BASICO 3:\n",
    "## Operaciones matemáticas, comparación y booleanas"
   ]
  },
  {
   "cell_type": "markdown",
   "metadata": {
    "id": "TKvn33ky3WYr"
   },
   "source": [
    "Completa los siguiente ejercicios, la solución completa a los mismos se publicarán en el repo del curso a lo largo del sprint. En algunos ejercicios se muestra la solución final, para que puedas comprobar que lo has hecho bien, pero lo importante es el código que generes. ¡Vaaamos, a ello...!"
   ]
  },
  {
   "cell_type": "markdown",
   "metadata": {
    "id": "NUECVfBL3WYr"
   },
   "source": [
    "![ejercicio.png](./img/ejercicio.png)\n",
    "\n",
    "\n",
    "## Ejercicio 1\n",
    "Tenemos las siguientes variables:\n",
    "\n",
    "```Python\n",
    "A = 4\n",
    "B = \"Text\"\n",
    "C = 4.1\n",
    "```\n",
    "\n",
    "Comprueba:\n",
    "1. Si A y B son equivalentes\n",
    "2. Si A y C NO son equivalentes\n",
    "3. Si A es mayor que C\n",
    "4. Si C es menor o igual que A\n",
    "5. Si B NO es equivalente a C"
   ]
  },
  {
   "cell_type": "code",
   "execution_count": 5,
   "metadata": {
    "id": "sS9qUC5F3WYr",
    "outputId": "fdea43ab-b0e4-432a-d7ee-29aceb4e54ba"
   },
   "outputs": [
    {
     "name": "stdout",
     "output_type": "stream",
     "text": [
      "False\n",
      "True\n",
      "False\n",
      "False\n",
      "True\n"
     ]
    }
   ],
   "source": [
    "A = 4\n",
    "B = \"Text\"\n",
    "C = 4.1\n",
    "\n",
    "print(A == B)\n",
    "print(A != C)\n",
    "print(A > C)\n",
    "print(C <= A)\n",
    "print(B != C)"
   ]
  },
  {
   "cell_type": "markdown",
   "metadata": {
    "id": "3u7wq3D_3WYs"
   },
   "source": [
    "![ejercicio.png](./img/ejercicio.png)\n",
    "\n",
    "## Ejercicio 2\n",
    "Crea un programa donde se recojan dos inputs del usuario, y el output del programa sea si esos inputs son iguales o no"
   ]
  },
  {
   "cell_type": "code",
   "execution_count": 12,
   "metadata": {
    "id": "4QtgslDi3WYs"
   },
   "outputs": [
    {
     "name": "stdin",
     "output_type": "stream",
     "text": [
      "Mi nota de ciencias es:  6.4\n",
      "Mi nota de historia es:  7.9\n"
     ]
    },
    {
     "name": "stdout",
     "output_type": "stream",
     "text": [
      "La nota de ciencias es 6.4 y la nota de historia es 7.9, por tanto, la output es False\n"
     ]
    }
   ],
   "source": [
    "\n",
    "nota_ciencias = float(input(\"Mi nota de ciencias es: \"))\n",
    "nota_historia = float(input(\"Mi nota de historia es: \"))\n",
    "\n",
    "#Comparar mi nota de ciencias con historia\n",
    "nota_comparativa = nota_ciencias == nota_historia\n",
    "\n",
    "print (f\"La nota de ciencias es {nota_ciencias} y la nota de historia es {nota_historia}, por tanto, la output es {nota_comparativa}\")"
   ]
  },
  {
   "cell_type": "markdown",
   "metadata": {
    "id": "NYY9zg5P3WYs"
   },
   "source": [
    "![ejercicio.png](./img/ejercicio.png)\n",
    "\n",
    "## Ejercicio 3\n",
    "Mismo programa que en 2, pero en esta ocasión tienen que ser tres inputs y dos salidas. Una de las salidas que nos indique si todos son iguales, y la otra si al menos dos inputs sí que lo son"
   ]
  },
  {
   "cell_type": "code",
   "execution_count": 18,
   "metadata": {
    "id": "wG6HR8we3WYt",
    "outputId": "9ac7bfe5-d79a-45c2-d0bd-2a0cd3535cce"
   },
   "outputs": [
    {
     "name": "stdin",
     "output_type": "stream",
     "text": [
      "Mi nota de ciencias es:  6\n",
      "Mi nota de historia es:  8\n",
      "Mi nota de matemáticas es:  6\n"
     ]
    },
    {
     "name": "stdout",
     "output_type": "stream",
     "text": [
      "Mis tres notas son iguales: False\n",
      "Al menos dos de mis notas son iguales: True\n"
     ]
    }
   ],
   "source": [
    "nota_ciencias = float(input(\"Mi nota de ciencias es: \"))\n",
    "nota_historia = float(input(\"Mi nota de historia es: \"))\n",
    "nota_matematicas = float(input(\"Mi nota de matemáticas es: \"))\n",
    "\n",
    "#Comparar las tres notas\n",
    "nota_comparativa = nota_ciencias == nota_historia ==  nota_matematicas\n",
    "\n",
    "print(\"Mis tres notas son iguales:\", nota_comparativa)\n",
    "\n",
    "# Ver si al menos dos de los inputs son iguales \n",
    "\n",
    "dos_iguales = (nota_ciencias == nota_historia) or (nota_ciencias == nota_matematicas) or (nota_historia == nota_matematicas)\n",
    "\n",
    "print(\"Al menos dos de mis notas son iguales:\", dos_iguales)"
   ]
  },
  {
   "cell_type": "markdown",
   "metadata": {
    "id": "udJsycjy3WYt"
   },
   "source": [
    "![ejercicio.png](./img/ejercicio.png)\n",
    "\n",
    "## Ejercicio 4\n",
    "Razona sin ejecutar código el output que obtendremos de las siguientes sentencias\n",
    "1. True and True and False\n",
    "2. not ((True or False) and (True or False))\n",
    "3. (False or False or False or True) and False\n",
    "4. not False and True and not True"
   ]
  },
  {
   "cell_type": "markdown",
   "metadata": {
    "id": "L9rRY7HV3WYt"
   },
   "source": [
    "1. Usando la tabla de la verdad, la aplicación de AND nos dice que el resultado será FALSE porque una de las condiciones ya da False.\n",
    "2. NOT siempre será lo contrario a lo que haya. El operador OR devuelve TRUE siempre que haya al menos un true en la condición. En este caso, la primera parte se resolvería así: not(True and True). La segunda parte, se quedaría Not True; por tanto, al ser lo contrario; se quedaría como FALSE.\n",
    "3. (al haber un solo True, ya por norma por el uso de OR, se quedaría en True: True and False. Al no se todos True, el And lo transforma en FALSE.\n",
    "4. Al no haber paréntesis, se lee secuencialmente, por tanto: not false, será TRUE. True and True será True y, con el and y not true, será false. "
   ]
  },
  {
   "cell_type": "code",
   "execution_count": null,
   "metadata": {},
   "outputs": [],
   "source": []
  }
 ],
 "metadata": {
  "colab": {
   "provenance": []
  },
  "kernelspec": {
   "display_name": "Python 3 (ipykernel)",
   "language": "python",
   "name": "python3"
  },
  "language_info": {
   "codemirror_mode": {
    "name": "ipython",
    "version": 3
   },
   "file_extension": ".py",
   "mimetype": "text/x-python",
   "name": "python",
   "nbconvert_exporter": "python",
   "pygments_lexer": "ipython3",
   "version": "3.13.1"
  }
 },
 "nbformat": 4,
 "nbformat_minor": 4
}
